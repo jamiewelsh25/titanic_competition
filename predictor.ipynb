{
 "cells": [
  {
   "cell_type": "code",
   "execution_count": 107,
   "id": "12724f74",
   "metadata": {},
   "outputs": [
    {
     "data": {
      "text/plain": [
       "0.24236252545824846"
      ]
     },
     "execution_count": 107,
     "metadata": {},
     "output_type": "execute_result"
    }
   ],
   "source": [
    "import pandas as pd\n",
    "import numpy as np\n",
    "from sklearn.model_selection import train_test_split\n",
    "from sklearn.preprocessing import StandardScaler\n",
    "\n",
    "data = pd.read_csv('train.csv')\n",
    "data.head()"
   ]
  },
  {
   "cell_type": "markdown",
   "id": "1890b4c2",
   "metadata": {},
   "source": [
    "## Data Pre-processing"
   ]
  },
  {
   "cell_type": "code",
   "execution_count": 85,
   "id": "e3afce8b",
   "metadata": {},
   "outputs": [],
   "source": [
    "df = data.copy()\n",
    "\n",
    "# Extract surnames from the \"Name\" column\n",
    "df['Surname'] = df['Name'].apply(lambda x: x.split(',')[0].strip())\n",
    "\n",
    "# Create a new column for family size\n",
    "df['Family_Size'] = df.groupby('Surname')['Surname'].transform('count')\n",
    "\n",
    "# Add 1 to include the person with that surname itself\n",
    "df['Family_Size'] = df['Family_Size'] + 1\n",
    "\n",
    "\n",
    "# Encode the Cabin Type as a Feature and One-hot encode Sex and Embarked columns\n",
    "df['CabinType'] = df['Cabin'].str[0]\n",
    "df = pd.get_dummies(df, columns=['Sex', 'Embarked', 'CabinType'], dtype=int)\n",
    "\n",
    "# Also include a column representing if a passeneger has a column\n",
    "df['HasCabin'] = np.where(df['Cabin'].isna(), 0, 1)\n",
    "\n",
    "\n",
    "# Age column has several NaN values. Augment these with median age instead of removing\n",
    "median_age = df['Age'].median()\n",
    "df['Age'].fillna(median_age, inplace=True)\n",
    "\n",
    "\n",
    "# Extract titles from the \"Name\" column\n",
    "df['Title'] = df['Name'].str.extract(' ([A-Za-z]+)\\.')\n",
    "\n",
    "# One-hot encode the titles which occur three or more times into features\n",
    "titles_to_encode = ['Mr', 'Miss', 'Mrs', 'Master', 'Dr', 'Rev']\n",
    "\n",
    "for title in titles_to_encode:\n",
    "    df['Title_' + title] = (df['Title'] == title).astype(int)\n",
    "    \n",
    "\n",
    "# Drop irrelevant columns\n",
    "df.drop(['Name', 'Ticket', 'Cabin', 'PassengerId', 'Title', 'Surname'], axis=1, inplace=True)\n",
    "\n",
    "\n",
    "\n",
    "# Step 1: Split the data into training and test sets\n",
    "X = df.drop(columns=['Survived'])  # Features (all columns except 'Survived')\n",
    "y = df['Survived']  # Target variable\n",
    "\n",
    "# Split the data into 80% training and 20% test\n",
    "X_train, X_test, y_train, y_test = train_test_split(X, y, test_size=0.2, random_state=42)\n",
    "\n",
    "# Step 2: Apply Standard Scaling\n",
    "scaler = StandardScaler()\n",
    "\n",
    "# Fit the scaler on the training data and transform both the training and test data\n",
    "X_train_scaled = scaler.fit_transform(X_train)\n",
    "X_test_scaled = scaler.transform(X_test)\n",
    "\n"
   ]
  },
  {
   "cell_type": "markdown",
   "id": "912be113",
   "metadata": {},
   "source": [
    "## Train Classification Models"
   ]
  },
  {
   "cell_type": "code",
   "execution_count": 86,
   "id": "9887d3a7",
   "metadata": {},
   "outputs": [
    {
     "name": "stdout",
     "output_type": "stream",
     "text": [
      "Logistic Regression Accuracy: 0.80\n",
      "Decision Tree Accuracy: 0.79\n",
      "Random Forest Accuracy: 0.83\n",
      "SVM Accuracy: 0.81\n"
     ]
    }
   ],
   "source": [
    "from sklearn.model_selection import train_test_split\n",
    "from sklearn.preprocessing import StandardScaler\n",
    "from sklearn.linear_model import LogisticRegression\n",
    "from sklearn.tree import DecisionTreeClassifier\n",
    "from sklearn.ensemble import RandomForestClassifier\n",
    "from sklearn.svm import SVC\n",
    "from sklearn.metrics import accuracy_score\n",
    "\n",
    "# Initialize classifiers\n",
    "classifiers = {\n",
    "    'Logistic Regression': LogisticRegression(),\n",
    "    'Decision Tree': DecisionTreeClassifier(),\n",
    "    'Random Forest': RandomForestClassifier(),\n",
    "    'SVM': SVC()\n",
    "}\n",
    "\n",
    "# Train and evaluate each classifier\n",
    "for name, classifier in classifiers.items():\n",
    "    classifier.fit(X_train_scaled, y_train)  # Train the model\n",
    "    y_pred = classifier.predict(X_test_scaled)  # Make predictions on the test set\n",
    "    accuracy = accuracy_score(y_test, y_pred)  # Calculate accuracy\n",
    "    print(f'{name} Accuracy: {accuracy:.2f}')"
   ]
  },
  {
   "cell_type": "markdown",
   "id": "aae33d2e",
   "metadata": {},
   "source": [
    "## Tuning Best Model"
   ]
  },
  {
   "cell_type": "code",
   "execution_count": 87,
   "id": "c54d5a4f",
   "metadata": {},
   "outputs": [
    {
     "name": "stdout",
     "output_type": "stream",
     "text": [
      "Initial Accuracy: 0.83\n",
      "Accuracy with 20 selected features: 0.84\n"
     ]
    }
   ],
   "source": [
    "# Split the data into 80% training and 20% test\n",
    "X_train, X_test, y_train, y_test = train_test_split(X, y, test_size=0.2, random_state=42)\n",
    "\n",
    "# Step 2: Apply Standard Scaling\n",
    "scaler = StandardScaler()\n",
    "\n",
    "# Fit the scaler on the training data and transform both the training and test data\n",
    "X_train_scaled = scaler.fit_transform(X_train)\n",
    "X_test_scaled = scaler.transform(X_test)\n",
    "\n",
    "# Train a Random Forest model on the entire feature set\n",
    "rf_classifier = RandomForestClassifier(random_state=42)\n",
    "rf_classifier.fit(X_train_scaled, y_train)\n",
    "\n",
    "# Evaluate the model on the test set\n",
    "y_pred = rf_classifier.predict(X_test_scaled)\n",
    "initial_accuracy = accuracy_score(y_test, y_pred)\n",
    "print(f'Initial Accuracy: {initial_accuracy:.2f}')\n",
    "\n",
    "# Get feature importances\n",
    "feature_importances = rf_classifier.feature_importances_\n",
    "\n",
    "# Rank features by importance\n",
    "feature_ranking = pd.Series(feature_importances, index=X_train.columns).sort_values(ascending=False)\n",
    "\n",
    "# Select the top K features\n",
    "K = 20  # Replace with the desired number of top features\n",
    "selected_features = feature_ranking[:K].index.tolist()\n",
    "\n",
    "# Retrain the Random Forest model using only the selected features\n",
    "X_train_selected = X_train[selected_features]\n",
    "X_test_selected = X_test[selected_features]\n",
    "\n",
    "# Fit the scaler on the training data and transform both the training and test data\n",
    "X_train_scaled = scaler.fit_transform(X_train_selected)\n",
    "X_test_scaled = scaler.transform(X_test_selected)\n",
    "\n",
    "rf_classifier_selected = RandomForestClassifier(random_state=42)\n",
    "rf_classifier_selected.fit(X_train_scaled, y_train)\n",
    "\n",
    "# Evaluate the model with selected features on the test set\n",
    "y_pred_selected = rf_classifier_selected.predict(X_test_scaled)\n",
    "selected_accuracy = accuracy_score(y_test, y_pred_selected)\n",
    "print(f'Accuracy with {K} selected features: {selected_accuracy:.2f}')"
   ]
  },
  {
   "cell_type": "markdown",
   "id": "14bf69d3",
   "metadata": {},
   "source": [
    "## Grid Search"
   ]
  },
  {
   "cell_type": "code",
   "execution_count": 88,
   "id": "50910553",
   "metadata": {},
   "outputs": [
    {
     "name": "stdout",
     "output_type": "stream",
     "text": [
      "Best Hyperparameters: {'max_depth': 10, 'min_samples_leaf': 2, 'min_samples_split': 5, 'n_estimators': 10}\n",
      "Accuracy with Best Hyperparameters: 0.84\n"
     ]
    }
   ],
   "source": [
    "from sklearn.model_selection import GridSearchCV\n",
    "\n",
    "# Define a parameter grid for hyperparameter tuning\n",
    "param_grid = {\n",
    "    'n_estimators': [10, 50, 100, 200],\n",
    "    'max_depth': [None, 10, 20, 30],\n",
    "    'min_samples_split': [2, 5, 10],\n",
    "    'min_samples_leaf': [1, 2, 4]\n",
    "}\n",
    "\n",
    "# Create a Random Forest model\n",
    "rf_classifier = RandomForestClassifier(random_state=42)\n",
    "\n",
    "# Create an instance of GridSearchCV\n",
    "grid_search = GridSearchCV(estimator=rf_classifier, param_grid=param_grid, cv=5, scoring='accuracy')\n",
    "\n",
    "# Fit the GridSearchCV instance on the training data\n",
    "grid_search.fit(X_train_scaled, y_train)\n",
    "\n",
    "# Retrieve the best hyperparameters and the corresponding best estimator\n",
    "best_params = grid_search.best_params_\n",
    "best_rf_classifier = grid_search.best_estimator_\n",
    "\n",
    "# Evaluate the model with the best hyperparameters on the test set\n",
    "y_pred_best = best_rf_classifier.predict(X_test_scaled)\n",
    "best_accuracy = accuracy_score(y_test, y_pred_best)\n",
    "\n",
    "print(f'Best Hyperparameters: {best_params}')\n",
    "print(f'Accuracy with Best Hyperparameters: {best_accuracy:.2f}')"
   ]
  },
  {
   "cell_type": "markdown",
   "id": "bf3518f0",
   "metadata": {},
   "source": [
    "## Train Best Model"
   ]
  },
  {
   "cell_type": "code",
   "execution_count": 101,
   "id": "2d1d40db",
   "metadata": {},
   "outputs": [
    {
     "data": {
      "text/html": [
       "<style>#sk-container-id-3 {color: black;background-color: white;}#sk-container-id-3 pre{padding: 0;}#sk-container-id-3 div.sk-toggleable {background-color: white;}#sk-container-id-3 label.sk-toggleable__label {cursor: pointer;display: block;width: 100%;margin-bottom: 0;padding: 0.3em;box-sizing: border-box;text-align: center;}#sk-container-id-3 label.sk-toggleable__label-arrow:before {content: \"▸\";float: left;margin-right: 0.25em;color: #696969;}#sk-container-id-3 label.sk-toggleable__label-arrow:hover:before {color: black;}#sk-container-id-3 div.sk-estimator:hover label.sk-toggleable__label-arrow:before {color: black;}#sk-container-id-3 div.sk-toggleable__content {max-height: 0;max-width: 0;overflow: hidden;text-align: left;background-color: #f0f8ff;}#sk-container-id-3 div.sk-toggleable__content pre {margin: 0.2em;color: black;border-radius: 0.25em;background-color: #f0f8ff;}#sk-container-id-3 input.sk-toggleable__control:checked~div.sk-toggleable__content {max-height: 200px;max-width: 100%;overflow: auto;}#sk-container-id-3 input.sk-toggleable__control:checked~label.sk-toggleable__label-arrow:before {content: \"▾\";}#sk-container-id-3 div.sk-estimator input.sk-toggleable__control:checked~label.sk-toggleable__label {background-color: #d4ebff;}#sk-container-id-3 div.sk-label input.sk-toggleable__control:checked~label.sk-toggleable__label {background-color: #d4ebff;}#sk-container-id-3 input.sk-hidden--visually {border: 0;clip: rect(1px 1px 1px 1px);clip: rect(1px, 1px, 1px, 1px);height: 1px;margin: -1px;overflow: hidden;padding: 0;position: absolute;width: 1px;}#sk-container-id-3 div.sk-estimator {font-family: monospace;background-color: #f0f8ff;border: 1px dotted black;border-radius: 0.25em;box-sizing: border-box;margin-bottom: 0.5em;}#sk-container-id-3 div.sk-estimator:hover {background-color: #d4ebff;}#sk-container-id-3 div.sk-parallel-item::after {content: \"\";width: 100%;border-bottom: 1px solid gray;flex-grow: 1;}#sk-container-id-3 div.sk-label:hover label.sk-toggleable__label {background-color: #d4ebff;}#sk-container-id-3 div.sk-serial::before {content: \"\";position: absolute;border-left: 1px solid gray;box-sizing: border-box;top: 0;bottom: 0;left: 50%;z-index: 0;}#sk-container-id-3 div.sk-serial {display: flex;flex-direction: column;align-items: center;background-color: white;padding-right: 0.2em;padding-left: 0.2em;position: relative;}#sk-container-id-3 div.sk-item {position: relative;z-index: 1;}#sk-container-id-3 div.sk-parallel {display: flex;align-items: stretch;justify-content: center;background-color: white;position: relative;}#sk-container-id-3 div.sk-item::before, #sk-container-id-3 div.sk-parallel-item::before {content: \"\";position: absolute;border-left: 1px solid gray;box-sizing: border-box;top: 0;bottom: 0;left: 50%;z-index: -1;}#sk-container-id-3 div.sk-parallel-item {display: flex;flex-direction: column;z-index: 1;position: relative;background-color: white;}#sk-container-id-3 div.sk-parallel-item:first-child::after {align-self: flex-end;width: 50%;}#sk-container-id-3 div.sk-parallel-item:last-child::after {align-self: flex-start;width: 50%;}#sk-container-id-3 div.sk-parallel-item:only-child::after {width: 0;}#sk-container-id-3 div.sk-dashed-wrapped {border: 1px dashed gray;margin: 0 0.4em 0.5em 0.4em;box-sizing: border-box;padding-bottom: 0.4em;background-color: white;}#sk-container-id-3 div.sk-label label {font-family: monospace;font-weight: bold;display: inline-block;line-height: 1.2em;}#sk-container-id-3 div.sk-label-container {text-align: center;}#sk-container-id-3 div.sk-container {/* jupyter's `normalize.less` sets `[hidden] { display: none; }` but bootstrap.min.css set `[hidden] { display: none !important; }` so we also need the `!important` here to be able to override the default hidden behavior on the sphinx rendered scikit-learn.org. See: https://github.com/scikit-learn/scikit-learn/issues/21755 */display: inline-block !important;position: relative;}#sk-container-id-3 div.sk-text-repr-fallback {display: none;}</style><div id=\"sk-container-id-3\" class=\"sk-top-container\"><div class=\"sk-text-repr-fallback\"><pre>RandomForestClassifier(max_depth=10, min_samples_leaf=2, min_samples_split=5,\n",
       "                       n_estimators=10, random_state=42)</pre><b>In a Jupyter environment, please rerun this cell to show the HTML representation or trust the notebook. <br />On GitHub, the HTML representation is unable to render, please try loading this page with nbviewer.org.</b></div><div class=\"sk-container\" hidden><div class=\"sk-item\"><div class=\"sk-estimator sk-toggleable\"><input class=\"sk-toggleable__control sk-hidden--visually\" id=\"sk-estimator-id-3\" type=\"checkbox\" checked><label for=\"sk-estimator-id-3\" class=\"sk-toggleable__label sk-toggleable__label-arrow\">RandomForestClassifier</label><div class=\"sk-toggleable__content\"><pre>RandomForestClassifier(max_depth=10, min_samples_leaf=2, min_samples_split=5,\n",
       "                       n_estimators=10, random_state=42)</pre></div></div></div></div></div>"
      ],
      "text/plain": [
       "RandomForestClassifier(max_depth=10, min_samples_leaf=2, min_samples_split=5,\n",
       "                       n_estimators=10, random_state=42)"
      ]
     },
     "execution_count": 101,
     "metadata": {},
     "output_type": "execute_result"
    }
   ],
   "source": [
    "scaler = StandardScaler()\n",
    "\n",
    "# Retrain the Random Forest model using only the selected features\n",
    "X_train_selected = X_train[selected_features]\n",
    "\n",
    "# Fit the scaler on the training data and transform both the training and test data\n",
    "X_train_scaled = scaler.fit_transform(X_train_selected)\n",
    "\n",
    "\n",
    "# Create a Random Forest model\n",
    "final_rf_classifier = RandomForestClassifier(random_state=42, max_depth = 10, min_samples_leaf =  2, min_samples_split = 5, n_estimators = 10)\n",
    "\n",
    "# Fit the Model\n",
    "final_rf_classifier.fit(X_train_scaled, y_train)"
   ]
  },
  {
   "cell_type": "code",
   "execution_count": 102,
   "id": "31a3fc3e",
   "metadata": {},
   "outputs": [
    {
     "data": {
      "text/html": [
       "<div>\n",
       "<style scoped>\n",
       "    .dataframe tbody tr th:only-of-type {\n",
       "        vertical-align: middle;\n",
       "    }\n",
       "\n",
       "    .dataframe tbody tr th {\n",
       "        vertical-align: top;\n",
       "    }\n",
       "\n",
       "    .dataframe thead th {\n",
       "        text-align: right;\n",
       "    }\n",
       "</style>\n",
       "<table border=\"1\" class=\"dataframe\">\n",
       "  <thead>\n",
       "    <tr style=\"text-align: right;\">\n",
       "      <th></th>\n",
       "      <th>PassengerId</th>\n",
       "      <th>Survived</th>\n",
       "    </tr>\n",
       "  </thead>\n",
       "  <tbody>\n",
       "    <tr>\n",
       "      <th>0</th>\n",
       "      <td>892</td>\n",
       "      <td>0</td>\n",
       "    </tr>\n",
       "    <tr>\n",
       "      <th>1</th>\n",
       "      <td>893</td>\n",
       "      <td>1</td>\n",
       "    </tr>\n",
       "    <tr>\n",
       "      <th>2</th>\n",
       "      <td>894</td>\n",
       "      <td>0</td>\n",
       "    </tr>\n",
       "    <tr>\n",
       "      <th>3</th>\n",
       "      <td>895</td>\n",
       "      <td>0</td>\n",
       "    </tr>\n",
       "    <tr>\n",
       "      <th>4</th>\n",
       "      <td>896</td>\n",
       "      <td>1</td>\n",
       "    </tr>\n",
       "  </tbody>\n",
       "</table>\n",
       "</div>"
      ],
      "text/plain": [
       "   PassengerId  Survived\n",
       "0          892         0\n",
       "1          893         1\n",
       "2          894         0\n",
       "3          895         0\n",
       "4          896         1"
      ]
     },
     "execution_count": 102,
     "metadata": {},
     "output_type": "execute_result"
    }
   ],
   "source": [
    "test_df = pd.read_csv('test.csv')\n",
    "\n",
    "df = test_df.copy()\n",
    "\n",
    "# Extract surnames from the \"Name\" column\n",
    "df['Surname'] = df['Name'].apply(lambda x: x.split(',')[0].strip())\n",
    "\n",
    "# Create a new column for family size\n",
    "df['Family_Size'] = df.groupby('Surname')['Surname'].transform('count')\n",
    "\n",
    "# Add 1 to include the person with that surname itself\n",
    "df['Family_Size'] = df['Family_Size'] + 1\n",
    "\n",
    "\n",
    "# Encode the Cabin Type as a Feature and One-hot encode Sex and Embarked columns\n",
    "df['CabinType'] = df['Cabin'].str[0]\n",
    "df = pd.get_dummies(df, columns=['Sex', 'Embarked', 'CabinType'], dtype=int)\n",
    "\n",
    "# Also include a column representing if a passeneger has a column\n",
    "df['HasCabin'] = np.where(df['Cabin'].isna(), 0, 1)\n",
    "\n",
    "\n",
    "# Age column has several NaN values. Augment these with median age instead of removing\n",
    "median_age = df['Age'].median()\n",
    "df['Age'].fillna(median_age, inplace=True)\n",
    "\n",
    "# Fare column has several NaN values. Augment these with median fare instead of removing\n",
    "median_fare = df['Fare'].median()\n",
    "df['Fare'].fillna(median_fare, inplace=True)\n",
    "\n",
    "\n",
    "# Extract titles from the \"Name\" column\n",
    "df['Title'] = df['Name'].str.extract(' ([A-Za-z]+)\\.')\n",
    "\n",
    "# One-hot encode the titles which occur three or more times into features\n",
    "titles_to_encode = ['Mr', 'Miss', 'Mrs', 'Master', 'Dr', 'Rev']\n",
    "\n",
    "for title in titles_to_encode:\n",
    "    df['Title_' + title] = (df['Title'] == title).astype(int)\n",
    "    \n",
    "\n",
    "# Drop irrelevant columns\n",
    "df.drop(['Name', 'Ticket', 'Cabin', 'PassengerId', 'Title', 'Surname'], axis=1, inplace=True)\n",
    "\n",
    "# Select features and scale unseen data\n",
    "X_test = df.copy()  # Features (all columns except 'Survived')\n",
    "X_test_selected = X_test[selected_features]\n",
    "X_test_scaled = scaler.transform(X_test_selected)\n",
    "\n",
    "# Evaluate the model with the best hyperparameters on the test set\n",
    "preds = final_rf_classifier.predict(X_test_scaled)\n",
    "\n",
    "# Create Data Frame with Passenger ID and Prediction\n",
    "final_predictions = pd.DataFrame({'PassengerId': test_df['PassengerId'], 'Survived': preds})\n",
    "\n",
    "final_predictions.head()"
   ]
  },
  {
   "cell_type": "code",
   "execution_count": 103,
   "id": "d3e50f52",
   "metadata": {},
   "outputs": [],
   "source": [
    "# Save predictions as csv file\n",
    "final_predictions.to_csv('predictions.csv', index=False)\n"
   ]
  },
  {
   "cell_type": "code",
   "execution_count": null,
   "id": "b0a4588f",
   "metadata": {},
   "outputs": [],
   "source": []
  }
 ],
 "metadata": {
  "kernelspec": {
   "display_name": "Python 3 (ipykernel)",
   "language": "python",
   "name": "python3"
  },
  "language_info": {
   "codemirror_mode": {
    "name": "ipython",
    "version": 3
   },
   "file_extension": ".py",
   "mimetype": "text/x-python",
   "name": "python",
   "nbconvert_exporter": "python",
   "pygments_lexer": "ipython3",
   "version": "3.8.16"
  }
 },
 "nbformat": 4,
 "nbformat_minor": 5
}
